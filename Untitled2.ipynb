{
 "cells": [
  {
   "cell_type": "code",
   "execution_count": 126,
   "metadata": {},
   "outputs": [
    {
     "name": "stdout",
     "output_type": "stream",
     "text": [
      "ファイル名:img_0.png   向き:1\n",
      "ファイル名:left.png   向き:6\n",
      "ファイル名:left.png   向き:NoExif\n"
     ]
    }
   ],
   "source": [
    "import os\n",
    "from PIL import Image\n",
    "from PIL.ExifTags import TAGS\n",
    "from PIL import ImageStat\n",
    "\n",
    "target_path = r\"C:\\Users\\t3504\\Documents\\pil\\\\\"\n",
    "\n",
    "convert_image = {\n",
    "    1: lambda img: img,\n",
    "    2: lambda img: img.transpose(Image.FLIP_LEFT_RIGHT),                              # 左右反転\n",
    "    3: lambda img: img.transpose(Image.ROTATE_180),                                   # 180度回転\n",
    "    4: lambda img: img.transpose(Image.FLIP_TOP_BOTTOM),                              # 上下反転\n",
    "    5: lambda img: img.transpose(Image.FLIP_LEFT_RIGHT).transpose(Pillow.ROTATE_90),  # 左右反転＆反時計回りに90度回転\n",
    "    6: lambda img: img.transpose(Image.ROTATE_270),                                   # 反時計回りに270度回転\n",
    "    7: lambda img: img.transpose(Image.FLIP_LEFT_RIGHT).transpose(Pillow.ROTATE_270), # 左右反転＆反時計回りに270度回転\n",
    "    8: lambda img: img.transpose(Image.ROTATE_90),                                    # 反時計回りに90度回転\n",
    "}\n",
    "\n",
    "\n",
    "\n",
    " \n",
    "def main():\n",
    "    for file in os.listdir(target_path):\n",
    "            l = file.split('.')\n",
    "            filename=l[0] + r\".png\"\n",
    "            img = Image.open(target_path + file)\n",
    "            \n",
    "            try:\n",
    "                exif = img._getexif()\n",
    "                orientation = exif.get(0x112, 1)\n",
    "                print(\"ファイル名:{0}   向き:{1}\".format(filename,orientation))\n",
    "                new_img = convert_image[orientation](img)\n",
    "            except:\n",
    "                print(\"ファイル名:{0}   向き:NoExif\".format(filename))\n",
    "                filename=\"noexif\"+filename\n",
    "                #print(filename)\n",
    "                img.save(filename)\n",
    "                stat = ImageStat.Stat(img)\n",
    "                continue\n",
    "                \n",
    "\n",
    "            \n",
    "            new_img.save(filename)\n",
    "\n",
    "if __name__ == '__main__':\n",
    "    main()"
   ]
  },
  {
   "cell_type": "code",
   "execution_count": null,
   "metadata": {
    "collapsed": true
   },
   "outputs": [],
   "source": []
  },
  {
   "cell_type": "code",
   "execution_count": null,
   "metadata": {
    "collapsed": true
   },
   "outputs": [],
   "source": []
  }
 ],
 "metadata": {
  "kernelspec": {
   "display_name": "Python 3",
   "language": "python",
   "name": "python3"
  },
  "language_info": {
   "codemirror_mode": {
    "name": "ipython",
    "version": 3
   },
   "file_extension": ".py",
   "mimetype": "text/x-python",
   "name": "python",
   "nbconvert_exporter": "python",
   "pygments_lexer": "ipython3",
   "version": "3.6.1"
  }
 },
 "nbformat": 4,
 "nbformat_minor": 2
}
